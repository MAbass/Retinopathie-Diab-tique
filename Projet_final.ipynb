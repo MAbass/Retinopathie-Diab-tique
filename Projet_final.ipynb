{
 "cells": [
  {
   "cell_type": "markdown",
   "metadata": {
    "id": "eeBNFm0gQS6V"
   },
   "source": [
    "# Projet final : Fashion Mnist Classification"
   ]
  },
  {
   "cell_type": "markdown",
   "metadata": {},
   "source": [
    "## Name"
   ]
  },
  {
   "cell_type": "markdown",
   "metadata": {},
   "source": [
    "**1- Mohamadou \t\t  BOLY<br/>\n",
    "2- Mamadou Abass      DIALLO<br/>\n",
    "3- Mouhamadoul Amine  MBAYE<br/>\n",
    "4- Aboubakary\t\t  LY**<br/>"
   ]
  },
  {
   "cell_type": "markdown",
   "metadata": {
    "id": "9COb2q0KQS6a"
   },
   "source": [
    "![](https://images.unsplash.com/photo-1512436991641-6745cdb1723f?ixlib=rb-1.2.1&ixid=eyJhcHBfaWQiOjEyMDd9&auto=format&fit=crop&w=1050&q=80)\n",
    "\n",
    "Photo by [Lauren Fleischmann](https://unsplash.com/photos/R2aodqJn3b8)"
   ]
  },
  {
   "cell_type": "markdown",
   "metadata": {
    "id": "Mj3IKT5TQS6b"
   },
   "source": [
    "In this exercise, we will try to use a neural network on a simple classification task: classifying images of clothes into 10 classes."
   ]
  },
  {
   "cell_type": "markdown",
   "metadata": {
    "id": "sO_6ZRAEQS6b"
   },
   "source": [
    "# Chargement des donnees"
   ]
  },
  {
   "cell_type": "code",
   "execution_count": 1,
   "metadata": {
    "id": "2KLeuxGOQS6c",
    "scrolled": true
   },
   "outputs": [
    {
     "name": "stderr",
     "output_type": "stream",
     "text": [
      "/Users/macbook/anaconda3/envs/azerty/lib/python3.7/site-packages/tensorflow/python/framework/dtypes.py:516: FutureWarning: Passing (type, 1) or '1type' as a synonym of type is deprecated; in a future version of numpy, it will be understood as (type, (1,)) / '(1,)type'.\n",
      "  _np_qint8 = np.dtype([(\"qint8\", np.int8, 1)])\n",
      "/Users/macbook/anaconda3/envs/azerty/lib/python3.7/site-packages/tensorflow/python/framework/dtypes.py:517: FutureWarning: Passing (type, 1) or '1type' as a synonym of type is deprecated; in a future version of numpy, it will be understood as (type, (1,)) / '(1,)type'.\n",
      "  _np_quint8 = np.dtype([(\"quint8\", np.uint8, 1)])\n",
      "/Users/macbook/anaconda3/envs/azerty/lib/python3.7/site-packages/tensorflow/python/framework/dtypes.py:518: FutureWarning: Passing (type, 1) or '1type' as a synonym of type is deprecated; in a future version of numpy, it will be understood as (type, (1,)) / '(1,)type'.\n",
      "  _np_qint16 = np.dtype([(\"qint16\", np.int16, 1)])\n",
      "/Users/macbook/anaconda3/envs/azerty/lib/python3.7/site-packages/tensorflow/python/framework/dtypes.py:519: FutureWarning: Passing (type, 1) or '1type' as a synonym of type is deprecated; in a future version of numpy, it will be understood as (type, (1,)) / '(1,)type'.\n",
      "  _np_quint16 = np.dtype([(\"quint16\", np.uint16, 1)])\n",
      "/Users/macbook/anaconda3/envs/azerty/lib/python3.7/site-packages/tensorflow/python/framework/dtypes.py:520: FutureWarning: Passing (type, 1) or '1type' as a synonym of type is deprecated; in a future version of numpy, it will be understood as (type, (1,)) / '(1,)type'.\n",
      "  _np_qint32 = np.dtype([(\"qint32\", np.int32, 1)])\n",
      "/Users/macbook/anaconda3/envs/azerty/lib/python3.7/site-packages/tensorflow/python/framework/dtypes.py:525: FutureWarning: Passing (type, 1) or '1type' as a synonym of type is deprecated; in a future version of numpy, it will be understood as (type, (1,)) / '(1,)type'.\n",
      "  np_resource = np.dtype([(\"resource\", np.ubyte, 1)])\n",
      "/Users/macbook/anaconda3/envs/azerty/lib/python3.7/site-packages/tensorboard/compat/tensorflow_stub/dtypes.py:541: FutureWarning: Passing (type, 1) or '1type' as a synonym of type is deprecated; in a future version of numpy, it will be understood as (type, (1,)) / '(1,)type'.\n",
      "  _np_qint8 = np.dtype([(\"qint8\", np.int8, 1)])\n",
      "/Users/macbook/anaconda3/envs/azerty/lib/python3.7/site-packages/tensorboard/compat/tensorflow_stub/dtypes.py:542: FutureWarning: Passing (type, 1) or '1type' as a synonym of type is deprecated; in a future version of numpy, it will be understood as (type, (1,)) / '(1,)type'.\n",
      "  _np_quint8 = np.dtype([(\"quint8\", np.uint8, 1)])\n",
      "/Users/macbook/anaconda3/envs/azerty/lib/python3.7/site-packages/tensorboard/compat/tensorflow_stub/dtypes.py:543: FutureWarning: Passing (type, 1) or '1type' as a synonym of type is deprecated; in a future version of numpy, it will be understood as (type, (1,)) / '(1,)type'.\n",
      "  _np_qint16 = np.dtype([(\"qint16\", np.int16, 1)])\n",
      "/Users/macbook/anaconda3/envs/azerty/lib/python3.7/site-packages/tensorboard/compat/tensorflow_stub/dtypes.py:544: FutureWarning: Passing (type, 1) or '1type' as a synonym of type is deprecated; in a future version of numpy, it will be understood as (type, (1,)) / '(1,)type'.\n",
      "  _np_quint16 = np.dtype([(\"quint16\", np.uint16, 1)])\n",
      "/Users/macbook/anaconda3/envs/azerty/lib/python3.7/site-packages/tensorboard/compat/tensorflow_stub/dtypes.py:545: FutureWarning: Passing (type, 1) or '1type' as a synonym of type is deprecated; in a future version of numpy, it will be understood as (type, (1,)) / '(1,)type'.\n",
      "  _np_qint32 = np.dtype([(\"qint32\", np.int32, 1)])\n",
      "/Users/macbook/anaconda3/envs/azerty/lib/python3.7/site-packages/tensorboard/compat/tensorflow_stub/dtypes.py:550: FutureWarning: Passing (type, 1) or '1type' as a synonym of type is deprecated; in a future version of numpy, it will be understood as (type, (1,)) / '(1,)type'.\n",
      "  np_resource = np.dtype([(\"resource\", np.ubyte, 1)])\n"
     ]
    }
   ],
   "source": [
    "from tensorflow.keras.datasets import fashion_mnist\n",
    "\n",
    "(X_train, y_train), (X_test, y_test) = fashion_mnist.load_data()"
   ]
  },
  {
   "cell_type": "markdown",
   "metadata": {
    "id": "VdCfv3FVQS6c"
   },
   "source": [
    "This dataset contains 10 classes:\n",
    "* 0:\tT-shirt/top\n",
    "* 1:\tTrouser\n",
    "* 2:\tPullover\n",
    "* 3:\tDress\n",
    "* 4:\tCoat\n",
    "* 5:\tSandal\n",
    "* 6:\tShirt\n",
    "* 7:\tSneaker\n",
    "* 8:\tBag\n",
    "* 9:\tAnkle boot"
   ]
  },
  {
   "cell_type": "markdown",
   "metadata": {
    "id": "_3ONg15cQS6c"
   },
   "source": [
    "# Exploration des donnees"
   ]
  },
  {
   "cell_type": "code",
   "execution_count": 2,
   "metadata": {},
   "outputs": [
    {
     "name": "stdout",
     "output_type": "stream",
     "text": [
      "(60000, 28, 28) (60000,)\n"
     ]
    }
   ],
   "source": [
    "print(X_train.shape, y_train.shape)"
   ]
  },
  {
   "cell_type": "code",
   "execution_count": 3,
   "metadata": {
    "id": "4CnyHvTqQS6d",
    "scrolled": true
   },
   "outputs": [
    {
     "data": {
      "image/png": "[encoded data removed]",
      "text/plain": [
       "<Figure size 432x288 with 6 Axes>"
      ]
     },
     "metadata": {
      "needs_background": "light"
     },
     "output_type": "display_data"
    }
   ],
   "source": [
    "# Explore the data, display some input images\n",
    "import matplotlib.pyplot as plt\n",
    "import numpy as np\n",
    "\n",
    "# All of values of label existing in the datasets, we have 10 categories\n",
    "label_class = ['top', 'trouser', 'pullover', 'dress', 'coat', 'sandal', 'shirt', 'sneaker', 'bag', 'ankle boot']\n",
    "\n",
    "#We store all of index who desired to plot\n",
    "label_show = list()\n",
    "\n",
    "# we generate a random value between 0 and 60000\n",
    "idx = np.random.randint(X_train.shape[0])\n",
    "# Append the first random choice\n",
    "label_show.append(y_train[idx])\n",
    "# We iterate to choose another 6 values different of the first\n",
    "while (len(label_show) != 6):\n",
    "    idx = np.random.randint(X_train.shape[0])\n",
    "    if (y_train[idx] not in label_show):\n",
    "        label_show.append(y_train[idx])\n",
    "    \n",
    "# We plot them   \n",
    "for label,myidx in zip(label_show, range(1,7)):\n",
    "    plt.subplot(2,3,myidx)\n",
    "    plt.imshow(X_train[label], cmap='gray_r')\n",
    "    plt.title(label_class[y_train[label]])\n",
    "plt.subplots_adjust(left=0.1,\n",
    "                    bottom=0.1, \n",
    "                    right=0.9, \n",
    "                    top=0.9, \n",
    "                    wspace=0.4, \n",
    "                    hspace=0.4)\n",
    "plt.show()"
   ]
  },
  {
   "cell_type": "markdown",
   "metadata": {
    "id": "qPkwHVxFQS6e"
   },
   "source": [
    "# Normalisation et encodage des labels"
   ]
  },
  {
   "cell_type": "code",
   "execution_count": 4,
   "metadata": {
    "id": "-o5iGbdlQS6e"
   },
   "outputs": [],
   "source": [
    "from tensorflow.keras.utils import to_categorical\n",
    "\n",
    "# The function to_categorical transform all of values to matrix\n",
    "# The form of the matrix is (numberofobservations, valueuniqueoflabel)\n",
    "# We use to_categorical because the output of the neurone not to be a categorical value but a numeric value\n",
    "# Therefore the function encode a label\n",
    "y_train_cat = to_categorical(y_train, num_classes=10)\n",
    "y_test_cat = to_categorical(y_test, num_classes=10)\n",
    "\n",
    "# We normalize the value for speed training and fast convergence\n",
    "# Speed training beacause when to normalise the values, all of values are between 0 and 1\n",
    "# For example when we have to variable age and salary, we remark all of value of age is between 0 and max 120\n",
    "# But the salary is in interval min 300000 for example and maximum 8M\n",
    "# Then the weight of salary and the weight a age is so different and the training is not fasting\n",
    "X_train_norm = X_train/255.\n",
    "X_test_norm = X_test/255.\n",
    "\n",
    "# The image dimension of X_train and X_test is (28,28)\n",
    "# To the next function we transform the two dimension to one dimension\n",
    "# It's util because when the shape of all of images was different, we transform all of  dimension to a an unique\n",
    "# dimension, and for our example, the input values to the model is 28*28=784\n",
    "X_train_norm = X_train_norm.reshape(X_train_norm.shape[0], np.prod(X_train_norm.shape[1:]))\n",
    "X_test_norm = X_test_norm.reshape(X_test_norm.shape[0], np.prod(X_test_norm.shape[1:]))\n"
   ]
  },
  {
   "cell_type": "code",
   "execution_count": 5,
   "metadata": {},
   "outputs": [
    {
     "name": "stdout",
     "output_type": "stream",
     "text": [
      "(60000, 784) (10000, 784)\n"
     ]
    }
   ],
   "source": [
    "print(X_train_norm.shape, X_test_norm.shape)"
   ]
  },
  {
   "cell_type": "markdown",
   "metadata": {
    "id": "pHkpi937QS6f"
   },
   "source": [
    "# Creation de la fonction qui cree le modele"
   ]
  },
  {
   "cell_type": "code",
   "execution_count": 6,
   "metadata": {
    "id": "_gH1H02GQS6f"
   },
   "outputs": [],
   "source": [
    "# Build your model\n",
    "from tensorflow.keras.models import Sequential\n",
    "from tensorflow.keras.layers import Dense\n",
    "\n",
    "def my_model(input_dim):\n",
    "    # Create the Sequential object\n",
    "    model = Sequential()\n",
    "    # We have 784 input neurones and a hidden layer of 100 neurones\n",
    "    model.add(Dense(100, input_shape=input_dim, activation='relu'))\n",
    "\n",
    "    # Here the output of model is 10\n",
    "    model.add(Dense(10, activation='softmax'))\n",
    "    \n",
    "    return model"
   ]
  },
  {
   "cell_type": "markdown",
   "metadata": {
    "id": "yEQcHTAZQS6f"
   },
   "source": [
    "# Creation, compilation et entrainement du model"
   ]
  },
  {
   "cell_type": "code",
   "execution_count": 7,
   "metadata": {
    "collapsed": true,
    "id": "5gqodgquQS6f",
    "jupyter": {
     "outputs_hidden": true
    },
    "scrolled": true,
    "tags": []
   },
   "outputs": [
    {
     "name": "stdout",
     "output_type": "stream",
     "text": [
      "WARNING:tensorflow:From /Users/macbook/anaconda3/envs/azerty/lib/python3.7/site-packages/tensorflow/python/ops/init_ops.py:1251: calling VarianceScaling.__init__ (from tensorflow.python.ops.init_ops) with dtype is deprecated and will be removed in a future version.\n",
      "Instructions for updating:\n",
      "Call initializer instance with the dtype argument instead of passing it to the constructor\n",
      "Epoch 1/5\n",
      "60000/60000 [==============================] - 1s 12us/sample - loss: 0.5704 - acc: 0.8049\n",
      "Epoch 2/5\n",
      "60000/60000 [==============================] - 1s 10us/sample - loss: 0.4066 - acc: 0.8580\n",
      "Epoch 3/5\n",
      "60000/60000 [==============================] - 1s 9us/sample - loss: 0.3648 - acc: 0.8723\n",
      "Epoch 4/5\n",
      "60000/60000 [==============================] - 1s 10us/sample - loss: 0.3433 - acc: 0.8776\n",
      "Epoch 5/5\n",
      "60000/60000 [==============================] - 1s 10us/sample - loss: 0.3226 - acc: 0.8848\n"
     ]
    }
   ],
   "source": [
    "# The input of the model is (784,0)\n",
    "model = my_model((X_test_norm.shape[1],))\n",
    "\n",
    "# We have a classification model of multiple classes , then we use a loss for classification\n",
    "# In problem of classification we have categorical_crossentropy, sparse_categorical_crossentropy, kullback_leibler_divergence\n",
    "# and so on\n",
    "# And we compile the model using the adam optimizer and a loss, and calcule the accuracy\n",
    "model.compile(optimizer='adam', loss='categorical_crossentropy', metrics=['accuracy'])\n",
    "\n",
    "# Here the model train by using X_train and y_train, we notice that the ouput of model is equal of the number of\n",
    "# class who predict, for every single observations, we predict a value.\n",
    "# We use 5 epochs and 132 batchsize to avoid overfitting\n",
    "# If we choice a high value of epochs and small value of batchsize, it's possible the model fit perfectly to the train\n",
    "# but we have a small accuracy in testset\n",
    "history = model.fit(X_train_norm, y_train_cat, epochs=5, batch_size=132, shuffle=True)\n"
   ]
  },
  {
   "cell_type": "markdown",
   "metadata": {
    "id": "kFaTXYuEQS6g"
   },
   "source": [
    "# Evaluation du modele"
   ]
  },
  {
   "cell_type": "code",
   "execution_count": 8,
   "metadata": {
    "id": "HkTRyT4TQS6g",
    "tags": []
   },
   "outputs": [
    {
     "name": "stdout",
     "output_type": "stream",
     "text": [
      "60000/60000 [==============================] - 1s 13us/sample - loss: 0.3129 - acc: 0.8856\n",
      "accuracy on train with NN: 0.88558334\n",
      "10000/10000 [==============================] - 0s 14us/sample - loss: 0.3754 - acc: 0.8611\n",
      "accuracy on test with NN: 0.8611\n"
     ]
    }
   ],
   "source": [
    "# Compute the accuracy of your model\n",
    "\n",
    "print('accuracy on train with NN:', model.evaluate(X_train_norm, y_train_cat)[1])\n",
    "# TODO : Evaluer le  model sur le jeu de test et expliquer la difference avec le jeu de train\n",
    "print('accuracy on test with NN:', model.evaluate(X_test_norm, y_test_cat)[1])\n",
    "\n"
   ]
  },
  {
   "cell_type": "code",
   "execution_count": 10,
   "metadata": {
    "collapsed": true,
    "jupyter": {
     "outputs_hidden": true
    },
    "tags": []
   },
   "outputs": [
    {
     "name": "stdout",
     "output_type": "stream",
     "text": [
      "Epoch 1/10\n",
      "60000/60000 [==============================] - 1s 12us/sample - loss: 0.5733 - acc: 0.7995\n",
      "Epoch 2/10\n",
      "60000/60000 [==============================] - 1s 10us/sample - loss: 0.4177 - acc: 0.8495\n",
      "Epoch 3/10\n",
      "60000/60000 [==============================] - 1s 10us/sample - loss: 0.3746 - acc: 0.8663\n",
      "Epoch 4/10\n",
      "60000/60000 [==============================] - 1s 11us/sample - loss: 0.3455 - acc: 0.8754\n",
      "Epoch 5/10\n",
      "60000/60000 [==============================] - 1s 11us/sample - loss: 0.3262 - acc: 0.8818\n",
      "Epoch 6/10\n",
      "60000/60000 [==============================] - 1s 11us/sample - loss: 0.3091 - acc: 0.8881\n",
      "Epoch 7/10\n",
      "60000/60000 [==============================] - 1s 10us/sample - loss: 0.2967 - acc: 0.8915\n",
      "Epoch 8/10\n",
      "60000/60000 [==============================] - 1s 10us/sample - loss: 0.2846 - acc: 0.8963\n",
      "Epoch 9/10\n",
      "60000/60000 [==============================] - 1s 10us/sample - loss: 0.2757 - acc: 0.8985\n",
      "Epoch 10/10\n",
      "60000/60000 [==============================] - 1s 10us/sample - loss: 0.2652 - acc: 0.9028\n"
     ]
    }
   ],
   "source": [
    "model = my_model((X_test_norm.shape[1],))\n",
    "# Some optimizer adam, adamax, rmsprop, adadelta, adagrad, nadam etc\n",
    "model.compile(optimizer='rmsprop', loss='categorical_crossentropy', metrics=['accuracy'])\n",
    "\n",
    "history = model.fit(X_train_norm, y_train_cat, epochs=10, batch_size=132, shuffle=True)"
   ]
  },
  {
   "cell_type": "code",
   "execution_count": 11,
   "metadata": {
    "tags": []
   },
   "outputs": [
    {
     "name": "stdout",
     "output_type": "stream",
     "text": [
      "60000/60000 [==============================] - 1s 14us/sample - loss: 0.2699 - acc: 0.8987\n",
      "accuracy on train with NN: 0.8986833\n",
      "10000/10000 [==============================] - 0s 14us/sample - loss: 0.3639 - acc: 0.8702\n",
      "accuracy on test with NN: 0.8702\n"
     ]
    }
   ],
   "source": [
    "print('accuracy on train with NN:', model.evaluate(X_train_norm, y_train_cat)[1])\n",
    "print('accuracy on test with NN:', model.evaluate(X_test_norm, y_test_cat)[1])"
   ]
  },
  {
   "cell_type": "code",
   "execution_count": 12,
   "metadata": {
    "collapsed": true,
    "jupyter": {
     "outputs_hidden": true
    },
    "tags": []
   },
   "outputs": [
    {
     "name": "stdout",
     "output_type": "stream",
     "text": [
      "Epoch 1/50\n",
      "60000/60000 [==============================] - 1s 10us/sample - loss: 0.6610 - acc: 0.7801\n",
      "Epoch 2/50\n",
      "60000/60000 [==============================] - 1s 9us/sample - loss: 0.4687 - acc: 0.8406\n",
      "Epoch 3/50\n",
      "60000/60000 [==============================] - 1s 9us/sample - loss: 0.4288 - acc: 0.8521\n",
      "Epoch 4/50\n",
      "60000/60000 [==============================] - 1s 8us/sample - loss: 0.4028 - acc: 0.8605\n",
      "Epoch 5/50\n",
      "60000/60000 [==============================] - 1s 8us/sample - loss: 0.3872 - acc: 0.8660\n",
      "Epoch 6/50\n",
      "60000/60000 [==============================] - 1s 8us/sample - loss: 0.3739 - acc: 0.8702\n",
      "Epoch 7/50\n",
      "60000/60000 [==============================] - 1s 9us/sample - loss: 0.3647 - acc: 0.8727\n",
      "Epoch 8/50\n",
      "60000/60000 [==============================] - 1s 8us/sample - loss: 0.3537 - acc: 0.8765\n",
      "Epoch 9/50\n",
      "60000/60000 [==============================] - 1s 9us/sample - loss: 0.3466 - acc: 0.8790\n",
      "Epoch 10/50\n",
      "60000/60000 [==============================] - 1s 9us/sample - loss: 0.3393 - acc: 0.8801\n",
      "Epoch 11/50\n",
      "60000/60000 [==============================] - 1s 8us/sample - loss: 0.3325 - acc: 0.8831\n",
      "Epoch 12/50\n",
      "60000/60000 [==============================] - 1s 8us/sample - loss: 0.3251 - acc: 0.8857\n",
      "Epoch 13/50\n",
      "60000/60000 [==============================] - 1s 9us/sample - loss: 0.3200 - acc: 0.8875\n",
      "Epoch 14/50\n",
      "60000/60000 [==============================] - 1s 9us/sample - loss: 0.3160 - acc: 0.8876\n",
      "Epoch 15/50\n",
      "60000/60000 [==============================] - 1s 9us/sample - loss: 0.3100 - acc: 0.8897\n",
      "Epoch 16/50\n",
      "60000/60000 [==============================] - 1s 8us/sample - loss: 0.3074 - acc: 0.8893\n",
      "Epoch 17/50\n",
      "60000/60000 [==============================] - 1s 9us/sample - loss: 0.3018 - acc: 0.8928\n",
      "Epoch 18/50\n",
      "60000/60000 [==============================] - 0s 8us/sample - loss: 0.2968 - acc: 0.8950\n",
      "Epoch 19/50\n",
      "60000/60000 [==============================] - 0s 8us/sample - loss: 0.2933 - acc: 0.8956\n",
      "Epoch 20/50\n",
      "60000/60000 [==============================] - 0s 8us/sample - loss: 0.2903 - acc: 0.8960\n",
      "Epoch 21/50\n",
      "60000/60000 [==============================] - 0s 8us/sample - loss: 0.2863 - acc: 0.8976\n",
      "Epoch 22/50\n",
      "60000/60000 [==============================] - 0s 8us/sample - loss: 0.2821 - acc: 0.8986\n",
      "Epoch 23/50\n",
      "60000/60000 [==============================] - 1s 9us/sample - loss: 0.2784 - acc: 0.9011\n",
      "Epoch 24/50\n",
      "60000/60000 [==============================] - 1s 9us/sample - loss: 0.2766 - acc: 0.9013\n",
      "Epoch 25/50\n",
      "60000/60000 [==============================] - ETA: 0s - loss: 0.2739 - acc: 0.901 - 1s 12us/sample - loss: 0.2739 - acc: 0.9019\n",
      "Epoch 26/50\n",
      "60000/60000 [==============================] - 1s 15us/sample - loss: 0.2701 - acc: 0.9032\n",
      "Epoch 27/50\n",
      "60000/60000 [==============================] - 1s 20us/sample - loss: 0.2663 - acc: 0.90430s - loss: 0.2643 - a\n",
      "Epoch 28/50\n",
      "60000/60000 [==============================] - 1s 12us/sample - loss: 0.2650 - acc: 0.9043\n",
      "Epoch 29/50\n",
      "60000/60000 [==============================] - 1s 11us/sample - loss: 0.2627 - acc: 0.9059\n",
      "Epoch 30/50\n",
      "60000/60000 [==============================] - 1s 10us/sample - loss: 0.2587 - acc: 0.9067\n",
      "Epoch 31/50\n",
      "60000/60000 [==============================] - 1s 10us/sample - loss: 0.2568 - acc: 0.9084\n",
      "Epoch 32/50\n",
      "60000/60000 [==============================] - 1s 9us/sample - loss: 0.2546 - acc: 0.9087\n",
      "Epoch 33/50\n",
      "60000/60000 [==============================] - 1s 9us/sample - loss: 0.2525 - acc: 0.9093\n",
      "Epoch 34/50\n",
      "60000/60000 [==============================] - 1s 9us/sample - loss: 0.2496 - acc: 0.9111\n",
      "Epoch 35/50\n",
      "60000/60000 [==============================] - 1s 9us/sample - loss: 0.2474 - acc: 0.9116\n",
      "Epoch 36/50\n",
      "60000/60000 [==============================] - 1s 9us/sample - loss: 0.2449 - acc: 0.9116\n",
      "Epoch 37/50\n",
      "60000/60000 [==============================] - 1s 9us/sample - loss: 0.2428 - acc: 0.9135\n",
      "Epoch 38/50\n",
      "60000/60000 [==============================] - 1s 9us/sample - loss: 0.2411 - acc: 0.9139\n",
      "Epoch 39/50\n",
      "60000/60000 [==============================] - 1s 9us/sample - loss: 0.2392 - acc: 0.9142\n",
      "Epoch 40/50\n",
      "60000/60000 [==============================] - 1s 9us/sample - loss: 0.2351 - acc: 0.9161\n",
      "Epoch 41/50\n",
      "60000/60000 [==============================] - 1s 9us/sample - loss: 0.2346 - acc: 0.9162\n",
      "Epoch 42/50\n",
      "60000/60000 [==============================] - 1s 9us/sample - loss: 0.2325 - acc: 0.9175\n",
      "Epoch 43/50\n",
      "60000/60000 [==============================] - 1s 9us/sample - loss: 0.2297 - acc: 0.9181\n",
      "Epoch 44/50\n",
      "60000/60000 [==============================] - 1s 9us/sample - loss: 0.2291 - acc: 0.9186\n",
      "Epoch 45/50\n",
      "60000/60000 [==============================] - 1s 9us/sample - loss: 0.2264 - acc: 0.9194\n",
      "Epoch 46/50\n",
      "60000/60000 [==============================] - 1s 9us/sample - loss: 0.2252 - acc: 0.9201\n",
      "Epoch 47/50\n",
      "60000/60000 [==============================] - 1s 9us/sample - loss: 0.2230 - acc: 0.9197\n",
      "Epoch 48/50\n",
      "60000/60000 [==============================] - 1s 9us/sample - loss: 0.2211 - acc: 0.9211\n",
      "Epoch 49/50\n",
      "60000/60000 [==============================] - 1s 9us/sample - loss: 0.2184 - acc: 0.9224\n",
      "Epoch 50/50\n",
      "60000/60000 [==============================] - 1s 9us/sample - loss: 0.2183 - acc: 0.9212\n"
     ]
    }
   ],
   "source": [
    "model = my_model((X_test_norm.shape[1],))\n",
    "# Some optimizer adam, adamax, rmsprop, adadelta, adagrad, nadam etc\n",
    "model.compile(optimizer='adamax', loss='categorical_crossentropy', metrics=['accuracy'])\n",
    "\n",
    "history = model.fit(X_train_norm, y_train_cat, epochs=50, batch_size=164, shuffle=True)"
   ]
  },
  {
   "cell_type": "code",
   "execution_count": 13,
   "metadata": {},
   "outputs": [
    {
     "name": "stdout",
     "output_type": "stream",
     "text": [
      "60000/60000 [==============================] - 1s 15us/sample - loss: 0.2144 - acc: 0.9239\n",
      "accuracy on train with NN: 0.9239333\n",
      "10000/10000 [==============================] - 0s 22us/sample - loss: 0.3323 - acc: 0.8842\n",
      "accuracy on test with NN: 0.8842\n"
     ]
    }
   ],
   "source": [
    "print('accuracy on train with NN:', model.evaluate(X_train_norm, y_train_cat)[1])\n",
    "print('accuracy on test with NN:', model.evaluate(X_test_norm, y_test_cat)[1])"
   ]
  },
  {
   "cell_type": "code",
   "execution_count": null,
   "metadata": {},
   "outputs": [],
   "source": []
  }
 ],
 "metadata": {
  "colab": {
   "collapsed_sections": [],
   "name": "Projet final.ipynb",
   "provenance": []
  },
  "kernelspec": {
   "display_name": "Python 3",
   "language": "python",
   "name": "python3"
  },
  "language_info": {
   "codemirror_mode": {
    "name": "ipython",
    "version": 3
   },
   "file_extension": ".py",
   "mimetype": "text/x-python",
   "name": "python",
   "nbconvert_exporter": "python",
   "pygments_lexer": "ipython3",
   "version": "3.7.9"
  }
 },
 "nbformat": 4,
 "nbformat_minor": 4
}
